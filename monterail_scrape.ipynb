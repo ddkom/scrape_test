{
 "cells": [
  {
   "cell_type": "markdown",
   "metadata": {},
   "source": [
    "# Goal \n",
    "Web scrape import tasks"
   ]
  },
  {
   "cell_type": "code",
   "execution_count": 1,
   "metadata": {},
   "outputs": [],
   "source": [
    "import requests\n",
    "from bs4 import BeautifulSoup"
   ]
  },
  {
   "cell_type": "code",
   "execution_count": 2,
   "metadata": {},
   "outputs": [
    {
     "data": {
      "text/plain": [
       "200"
      ]
     },
     "execution_count": 2,
     "metadata": {},
     "output_type": "execute_result"
    }
   ],
   "source": [
    "# test with whatweekisit.com\n",
    "\n",
    "response = requests.get(\"https://whatweekisit.com\")\n",
    "response.status_code\n",
    "# response.content"
   ]
  },
  {
   "cell_type": "code",
   "execution_count": 3,
   "metadata": {},
   "outputs": [
    {
     "data": {
      "text/plain": [
       "\n",
       "<!DOCTYPE HTML PUBLIC \"-//W3C//DTD HTML 4.01 Transitional//EN\">\n",
       "\n",
       "<html>\n",
       "<head>\n",
       "<meta content=\"text/html; charset=utf-8\" http-equiv=\"Content-Type\"/>\n",
       "<meta content=\"this page displays the current week of the year\" name=\"description\"/>\n",
       "<meta content=\"date, week, calculator\" name=\"keywords\"/>\n",
       "<title>What week of the year is it?</title>\n",
       "<link href=\"css/sunny/jquery-ui-1.7.2.custom.css\" rel=\"stylesheet\" type=\"text/css\"/>\n",
       "<link href=\"css/screen.css\" media=\"screen, projection\" rel=\"stylesheet\" type=\"text/css\"/>\n",
       "<link href=\"css/print.css\" media=\"print\" rel=\"stylesheet\" type=\"text/css\"/>\n",
       "<link href=\"css/plugins/fancy-type/screen.css\" media=\"screen, projection\" rel=\"stylesheet\" type=\"text/css\"/>\n",
       "<link href=\"favicon.ico\" rel=\"shortcut icon\"/>\n",
       "<script src=\"js/jquery-1.3.2.min.js\" type=\"text/javascript\"></script>\n",
       "<script src=\"js/jquery-ui-1.7.2.custom.min.js\" type=\"text/javascript\"></script>\n",
       "<script src=\"js/functions.js\" type=\"text/javascript\"></script>\n",
       "<script src=\"//connect.facebook.net/en_US/all.js#appId=262029517142282&amp;xfbml=1\"></script>\n",
       "<!-- Ezoic Ad Testing Code-->\n",
       "<script src=\"//g.ezoic.net/ezoic/ezoiclitedata.go?did=76965\"></script>\n",
       "<!-- Ezoic Ad Testing Code-->\n",
       "<!-- Global site tag (gtag.js) - Google Analytics -->\n",
       "<script async=\"\" src=\"https://www.googletagmanager.com/gtag/js?id=UA-124734816-1\"></script>\n",
       "<script>\n",
       "\t  window.dataLayer = window.dataLayer || [];\n",
       "\t  function gtag(){dataLayer.push(arguments);}\n",
       "\t  gtag('js', new Date());\n",
       "\t\n",
       "\t  gtag('config', 'UA-124734816-1');\n",
       "\t</script>\n",
       "</head>\n",
       "<body>\n",
       "<!-- AddThis Button BEGIN -->\n",
       "<div class=\"addthis_toolbox addthis_default_style addthis_32x32_style\" id=\"menu\">\n",
       "<a class=\"addthis_button_google_plusone\"></a>\n",
       "<a class=\"addthis_button_facebook_like\" fb:like:layout=\"button_count\"></a>\n",
       "<a class=\"addthis_button_twitter\"></a>\n",
       "<a class=\"addthis_button_email\"></a>\n",
       "<a class=\"addthis_button_google\"></a>\n",
       "<a class=\"addthis_button_facebook\"></a>\n",
       "<a class=\"addthis_button_compact\"></a>\n",
       "<a class=\"addthis_counter addthis_bubble_style\"></a>\n",
       "</div>\n",
       "<script src=\"//s7.addthis.com/js/250/addthis_widget.js#pubid=ra-4e495b5740725211\" type=\"text/javascript\"></script>\n",
       "<!-- AddThis Button END -->\n",
       "<hr/>\n",
       "<div id=\"container\">\n",
       "<div class=\"span-15 prepend-1 colborder\" id=\"body\">\n",
       "<div style=\"height: 75; width: 468;\">\n",
       "<!-- Ezoic - Top of Page - top_of_page -->\n",
       "<div id=\"ezoic-pub-ad-placeholder-101\">\n",
       "<script async=\"\" src=\"//pagead2.googlesyndication.com/pagead/js/adsbygoogle.js\"></script>\n",
       "<!-- whatweekisit top banner -->\n",
       "<ins class=\"adsbygoogle\" data-ad-client=\"ca-pub-6633361523903481\" data-ad-slot=\"5458492575\" style=\"display:inline-block;width:468px;height:60px\"></ins>\n",
       "<script>\n",
       "(adsbygoogle = window.adsbygoogle || []).push({});\n",
       "</script>\n",
       "</div>\n",
       "<!-- End Ezoic - Top of Page - top_of_page -->\n",
       "<script type=\"text/javascript\">\n",
       "  (function() {\n",
       "    var po = document.createElement('script'); po.type = 'text/javascript'; po.async = true;\n",
       "    po.src = 'https://apis.google.com/js/plusone.js';\n",
       "    var s = document.getElementsByTagName('script')[0]; s.parentNode.insertBefore(po, s);\n",
       "  })();\n",
       "</script>\n",
       "<script src=\"//platform.twitter.com/widgets.js\" type=\"text/javascript\"></script>\n",
       "</div>\n",
       "<h1>What week of the year is it?</h1>\n",
       "<p>This single serving app calculates the week of the year and day of the year for the current day and for any day which you specify. Select a date from the calendar to see this in action.</p>\n",
       "<p>Please note that this site uses the ISO week date system. This is used primarily for financial and government timekeeping. For more information, please refer to this <a href=\"https://en.wikipedia.org/wiki/ISO_week_date\" target=\"_blank\">Wikipedia article</a>.</p>\n",
       "<div class=\"text\" id=\"today_date\">\n",
       "<table border=\"0\" class=\"box\">\n",
       "<tr><th colspan=\"2\">Current date info</th></tr><tr><td>Today's date is:</td><td><b>Sunday, November 29th, 2020</b></td></tr>\n",
       "<tr><td>Week of the year:</td><td><b>48 of 53</b></td></tr>\n",
       "<tr><td>Day of the year:</td><td><b>334 of 366</b></td></tr>\n",
       "</table>\n",
       "</div>\n",
       "<h3 align=\"center\">Choose a date to find out what week number it's in</h3>\n",
       "<div align=\"center\" class=\"datepicker\"></div><br/>\n",
       "<div class=\"text\" id=\"date_choose\">\n",
       "<table border=\"0\" class=\"box\" id=\"date_table\">\n",
       "<tr><th colspan=\"2\">Selected date info</th></tr>\n",
       "<tr><td>Chosen Date:</td><td> <b><span class=\"date\"></span></b></td></tr>\n",
       "<tr><td>Week of the year:</td><td> <b><span class=\"week\"></span></b></td></tr>\n",
       "<tr><td>Day of the year:</td><td> <b><span class=\"day\"></span></b></td></tr>\n",
       "</table>\n",
       "</div>\n",
       "<hr class=\"space\"/>\n",
       "<div class=\"footer\">\n",
       "\tThis single-serving app created by <a href=\"https://complete.network\">Complete Network - IT Support for Business</a><br/>\n",
       "</div>\n",
       "</div>\n",
       "<div class=\"span-7 last\">\n",
       "<!-- Ezoic - Sidebar Top - sidebar -->\n",
       "<div id=\"ezoic-pub-ad-placeholder-102\">\n",
       "<script async=\"\" src=\"//pagead2.googlesyndication.com/pagead/js/adsbygoogle.js\"></script>\n",
       "<!-- whatweekisit.com right skyscraper -->\n",
       "<ins class=\"adsbygoogle\" data-ad-client=\"ca-pub-6633361523903481\" data-ad-slot=\"1713494868\" style=\"display:inline-block;width:160px;height:600px\"></ins>\n",
       "<script>\n",
       "(adsbygoogle = window.adsbygoogle || []).push({});\n",
       "</script>\n",
       "</div>\n",
       "<!-- End Ezoic - Sidebar Top - sidebar-->\n",
       "</div>\n",
       "</div>\n",
       "<!--\n",
       "<script type=\"text/javascript\">\n",
       "var gaJsHost = ((\"https:\" == document.location.protocol) ? \"https://ssl.\" : \"http://www.\");\n",
       "document.write(unescape(\"%3Cscript src='\" + gaJsHost + \"google-analytics.com/ga.js' type='text/javascript'%3E%3C/script%3E\"));\n",
       "</script>\n",
       "<script type=\"text/javascript\">\n",
       "try {\n",
       "var pageTracker = _gat._getTracker(\"UA-9881943-1\");\n",
       "pageTracker._trackPageview();\n",
       "} catch(err) {}</script>\n",
       "-->\n",
       "</body>\n",
       "</html>"
      ]
     },
     "execution_count": 3,
     "metadata": {},
     "output_type": "execute_result"
    }
   ],
   "source": [
    "soup = BeautifulSoup(response.content, \"html.parser\")\n",
    "soup"
   ]
  },
  {
   "cell_type": "code",
   "execution_count": 4,
   "metadata": {},
   "outputs": [
    {
     "data": {
      "text/plain": [
       "<title>What week of the year is it?</title>"
      ]
     },
     "execution_count": 4,
     "metadata": {},
     "output_type": "execute_result"
    }
   ],
   "source": [
    "soup.title"
   ]
  },
  {
   "cell_type": "code",
   "execution_count": 5,
   "metadata": {},
   "outputs": [
    {
     "data": {
      "text/plain": [
       "'What week of the year is it?'"
      ]
     },
     "execution_count": 5,
     "metadata": {},
     "output_type": "execute_result"
    }
   ],
   "source": [
    "soup.title.string"
   ]
  },
  {
   "cell_type": "code",
   "execution_count": 6,
   "metadata": {},
   "outputs": [
    {
     "data": {
      "text/plain": [
       "[<p>This single serving app calculates the week of the year and day of the year for the current day and for any day which you specify. Select a date from the calendar to see this in action.</p>,\n",
       " <p>Please note that this site uses the ISO week date system. This is used primarily for financial and government timekeeping. For more information, please refer to this <a href=\"https://en.wikipedia.org/wiki/ISO_week_date\" target=\"_blank\">Wikipedia article</a>.</p>]"
      ]
     },
     "execution_count": 6,
     "metadata": {},
     "output_type": "execute_result"
    }
   ],
   "source": [
    "soup.find_all(\"p\")"
   ]
  },
  {
   "cell_type": "code",
   "execution_count": 7,
   "metadata": {},
   "outputs": [
    {
     "data": {
      "text/plain": [
       "<table border=\"0\" class=\"box\">\n",
       "<tr><th colspan=\"2\">Current date info</th></tr><tr><td>Today's date is:</td><td><b>Sunday, November 29th, 2020</b></td></tr>\n",
       "<tr><td>Week of the year:</td><td><b>48 of 53</b></td></tr>\n",
       "<tr><td>Day of the year:</td><td><b>334 of 366</b></td></tr>\n",
       "</table>"
      ]
     },
     "execution_count": 7,
     "metadata": {},
     "output_type": "execute_result"
    }
   ],
   "source": [
    "table = soup.find(\"table\")\n",
    "table"
   ]
  },
  {
   "cell_type": "code",
   "execution_count": 8,
   "metadata": {},
   "outputs": [
    {
     "name": "stdout",
     "output_type": "stream",
     "text": [
      "Today's date is:\n",
      "Sunday, November 29th, 2020\n",
      "Week of the year:\n",
      "48 of 53\n",
      "Day of the year:\n",
      "334 of 366\n"
     ]
    }
   ],
   "source": [
    "table_content = table.find_all(\"td\")\n",
    "for tag in table_content:\n",
    "    print(tag.get_text())"
   ]
  },
  {
   "cell_type": "code",
   "execution_count": null,
   "metadata": {},
   "outputs": [],
   "source": []
  }
 ],
 "metadata": {
  "kernelspec": {
   "display_name": "devenv",
   "language": "python",
   "name": "devenv"
  },
  "language_info": {
   "codemirror_mode": {
    "name": "ipython",
    "version": 3
   },
   "file_extension": ".py",
   "mimetype": "text/x-python",
   "name": "python",
   "nbconvert_exporter": "python",
   "pygments_lexer": "ipython3",
   "version": "3.8.6"
  }
 },
 "nbformat": 4,
 "nbformat_minor": 4
}
